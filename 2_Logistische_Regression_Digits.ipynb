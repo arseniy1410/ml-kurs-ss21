{
 "cells": [
  {
   "cell_type": "markdown",
   "metadata": {},
   "source": [
    "# Logistische Regression: Digit Classification"
   ]
  },
  {
   "cell_type": "markdown",
   "metadata": {},
   "source": [
    "In diesem Notebook wollen wir anhand des Digits-Datensatzes Vorhersagen mit Hilfe einer logistischen Regression machen. In diesem Datensatz ist jeder Datenpunkt ein kleines Bild mit 8x8 Pixeln und stellt eine Ziffer zwischen 0 und 9 dar. Das Vorhersageproblem besteht darin, anhand der 64 Pixelwerte vorherzusagen um welche Zahl es sich handelt.\n",
    "Eine nähere Beschreibung der Daten findet sich [hier](https://scikit-learn.org/stable/datasets/index.html#digits-dataset)."
   ]
  },
  {
   "cell_type": "markdown",
   "metadata": {},
   "source": [
    "### Laden des Digits-Datensatzes"
   ]
  },
  {
   "cell_type": "markdown",
   "metadata": {},
   "source": [
    "Zuerst Laden wir den `Digits`-Datensatz direkt mit der `datasets`-Library von `sklearn`."
   ]
  },
  {
   "cell_type": "code",
   "execution_count": 1,
   "metadata": {},
   "outputs": [],
   "source": [
    "from sklearn.datasets import load_digits\n",
    "data, labels = load_digits(return_X_y = True)"
   ]
  },
  {
   "cell_type": "code",
   "execution_count": 2,
   "metadata": {},
   "outputs": [
    {
     "name": "stdout",
     "output_type": "stream",
     "text": [
      "<class 'numpy.ndarray'>\n",
      "<class 'numpy.ndarray'>\n"
     ]
    }
   ],
   "source": [
    "print(type(data))\n",
    "print(type(labels))"
   ]
  },
  {
   "cell_type": "markdown",
   "metadata": {},
   "source": [
    "Daten und Labels sind beides `numpy`-Arrays. Schauen wir uns einen Datenpunkt mit zugehörigem Label an."
   ]
  },
  {
   "cell_type": "code",
   "execution_count": 3,
   "metadata": {},
   "outputs": [
    {
     "name": "stdout",
     "output_type": "stream",
     "text": [
      "Datenpunkt: [ 0.  0.  5. 13.  9.  1.  0.  0.  0.  0. 13. 15. 10. 15.  5.  0.  0.  3.\n",
      " 15.  2.  0. 11.  8.  0.  0.  4. 12.  0.  0.  8.  8.  0.  0.  5.  8.  0.\n",
      "  0.  9.  8.  0.  0.  4. 11.  0.  1. 12.  7.  0.  0.  2. 14.  5. 10. 12.\n",
      "  0.  0.  0.  0.  6. 13. 10.  0.  0.  0.]\n",
      "Anzahl Einträge: 64\n",
      "Label: 0\n"
     ]
    }
   ],
   "source": [
    "print(\"Datenpunkt:\", data[0])\n",
    "print(\"Anzahl Einträge:\", len(data[0]))\n",
    "print(\"Label:\", labels[0])"
   ]
  },
  {
   "cell_type": "markdown",
   "metadata": {},
   "source": [
    "Ein Datenpunkt hat 64 Features. Jedes Feature steht für ein Pixel in einem 8x8 Bild und hat einen Wert zwischen `0` und `16`, welcher der Graustufe des Pixels entspricht. Für den Wert `0` ist das Pixel komplett schwarz, während ein Wert von `16` einem weißen Pixel entspricht. Das Label für diesen Datenpunkt ist `0`, d.h. das Bild stellte die Ziffer `0` dar.\n",
    "\n",
    "Die ersten 8 Features entsprechen den Pixeln der ersten Reihe des Bildes, die zweiten 8 Features der zweiten Reihe des Bildes usw.\n",
    "Um das besser zu veranschaulichen können wir das Array in eine 8x8-Form bringen:"
   ]
  },
  {
   "cell_type": "code",
   "execution_count": 4,
   "metadata": {},
   "outputs": [
    {
     "data": {
      "text/plain": [
       "array([[ 0.,  0.,  5., 13.,  9.,  1.,  0.,  0.],\n",
       "       [ 0.,  0., 13., 15., 10., 15.,  5.,  0.],\n",
       "       [ 0.,  3., 15.,  2.,  0., 11.,  8.,  0.],\n",
       "       [ 0.,  4., 12.,  0.,  0.,  8.,  8.,  0.],\n",
       "       [ 0.,  5.,  8.,  0.,  0.,  9.,  8.,  0.],\n",
       "       [ 0.,  4., 11.,  0.,  1., 12.,  7.,  0.],\n",
       "       [ 0.,  2., 14.,  5., 10., 12.,  0.,  0.],\n",
       "       [ 0.,  0.,  6., 13., 10.,  0.,  0.,  0.]])"
      ]
     },
     "execution_count": 4,
     "metadata": {},
     "output_type": "execute_result"
    }
   ],
   "source": [
    "import numpy as np \n",
    "np.reshape(data[0], (8,8))"
   ]
  },
  {
   "cell_type": "markdown",
   "metadata": {},
   "source": [
    "Um uns testweise ein paar Bilder anzuschauen können wir ein paar zufällig ausgewählte Datenpunkte mit Hilfe der `matplotlib`-Library plotten:"
   ]
  },
  {
   "cell_type": "code",
   "execution_count": 5,
   "metadata": {},
   "outputs": [
    {
     "data": {
      "image/png": "[encoded data removed]",
      "text/plain": [
       "<Figure size 1080x72 with 15 Axes>"
      ]
     },
     "metadata": {
      "needs_background": "light"
     },
     "output_type": "display_data"
    }
   ],
   "source": [
    "import numpy as np \n",
    "import matplotlib.pyplot as plt\n",
    "import random\n",
    "\n",
    "no_images = 15\n",
    "\n",
    "plt.figure(figsize=(no_images, 1))\n",
    "for index in range(0, no_images):\n",
    "    \n",
    "    # wähle zufälligen Datenpunkt aus\n",
    "    image_index = random.randint(0, len(data))\n",
    "    features = data[image_index]\n",
    "    features_8x8 = np.reshape(features, (8,8))\n",
    "    label = labels[image_index]\n",
    "    \n",
    "    # plotte das 8x8 Bild\n",
    "    plt.subplot(1, no_images, index + 1)\n",
    "    plt.imshow(features_8x8, cmap=plt.cm.gray)\n",
    "    plt.title(label, fontsize = 20)"
   ]
  },
  {
   "cell_type": "markdown",
   "metadata": {},
   "source": [
    "### Binäre Klassifikation"
   ]
  },
  {
   "cell_type": "markdown",
   "metadata": {},
   "source": [
    "Ziel ist es jetzt mit Hilfe der Features (Pixelwerte) das Label (die dargestellte Ziffer) vorherzusagen. Dazu wollen wir uns im ersten Schritt auf eine einfache binäre Klassifizierung beschränken und Vorhersagen ob auf dem Bild die Ziffer `0` zu sehen ist."
   ]
  },
  {
   "cell_type": "markdown",
   "metadata": {},
   "source": [
    "Im ersten Schritt unterteilen wir die Daten in Trainings- und Testdaten:"
   ]
  },
  {
   "cell_type": "code",
   "execution_count": 6,
   "metadata": {},
   "outputs": [
    {
     "name": "stdout",
     "output_type": "stream",
     "text": [
      "Trainingsdatenpunkte: 1437\n",
      "Testdatenpunkte: 360\n"
     ]
    }
   ],
   "source": [
    "from sklearn.model_selection import train_test_split\n",
    "X_train, X_test, y_train, y_test = train_test_split(data, labels, test_size=0.2, random_state=0)\n",
    "print(\"Trainingsdatenpunkte:\", len(X_train))\n",
    "print(\"Testdatenpunkte:\", len(X_test))"
   ]
  },
  {
   "cell_type": "markdown",
   "metadata": {},
   "source": [
    "Für die Klassifierzung hinsichtlich der Ziffer `0` müssen wir das Label jedes Datenpunktes umwandeln, so dass gilt:\n",
    "- `Label \"1\"`: Die Ziffer ist eine `0`.\n",
    "- `Label \"0\"`: Die Ziffer ist keine `0` (d.h. alle andere Ziffern).\n",
    "\n",
    "Diese machen wir über folgende Funktion:"
   ]
  },
  {
   "cell_type": "code",
   "execution_count": 7,
   "metadata": {},
   "outputs": [
    {
     "name": "stdout",
     "output_type": "stream",
     "text": [
      "Alte Labels: [6 5 3 4 4 4 8 8 7 0 9 6 3 5 2 3 0 8 3 3]\n",
      "Neue Labels: [0 0 0 0 0 0 0 0 0 1 0 0 0 0 0 0 1 0 0 0]\n"
     ]
    }
   ],
   "source": [
    "def label_to_binary(digit, labels):\n",
    "    binary_labels = []\n",
    "    for label in labels:\n",
    "        if(label == digit):\n",
    "            binary_labels.append(1)\n",
    "        else:\n",
    "            binary_labels.append(0)\n",
    "    return np.array(binary_labels)\n",
    "    \n",
    "y_train_0 = label_to_binary(0, y_train)\n",
    "y_test_0 = label_to_binary(0, y_test)\n",
    "\n",
    "print(\"Alte Labels:\", y_train[:20])\n",
    "print(\"Neue Labels:\", y_train_0[:20])"
   ]
  },
  {
   "cell_type": "markdown",
   "metadata": {},
   "source": [
    "Jetzt können wir das logistische Regressionsmodell trainieren."
   ]
  },
  {
   "cell_type": "code",
   "execution_count": 8,
   "metadata": {},
   "outputs": [
    {
     "data": {
      "text/plain": [
       "LogisticRegression(max_iter=1000)"
      ]
     },
     "execution_count": 8,
     "metadata": {},
     "output_type": "execute_result"
    }
   ],
   "source": [
    "from sklearn.linear_model import LogisticRegression\n",
    "logisticRegr = LogisticRegression(max_iter=1000) # Gradient Descent mit max. 1000 Schritten\n",
    "logisticRegr.fit(X_train, y_train_0)"
   ]
  },
  {
   "cell_type": "markdown",
   "metadata": {},
   "source": [
    "### Testen des Regressionsmodells"
   ]
  },
  {
   "cell_type": "markdown",
   "metadata": {},
   "source": [
    "Schauen wir uns nun zwei Beispiele aus den Testdaten und die dazugehörige Vorhersage an:"
   ]
  },
  {
   "cell_type": "code",
   "execution_count": 9,
   "metadata": {},
   "outputs": [
    {
     "name": "stdout",
     "output_type": "stream",
     "text": [
      "Vorhersage auf Datenpunkt 0 ist: [0]\n"
     ]
    }
   ],
   "source": [
    "data_index = 0\n",
    "prediction = logisticRegr.predict(X_test[[data_index]])\n",
    "print(\"Vorhersage auf Datenpunkt\", data_index, \"ist:\", prediction)"
   ]
  },
  {
   "cell_type": "markdown",
   "metadata": {},
   "source": [
    "Das Modell sagt die Klasse `0` vorraus (d.h. dass nicht die Ziffer 0 abgebildet ist). Schauen wir uns das richtige Label und den zugehörigen Plot an."
   ]
  },
  {
   "cell_type": "code",
   "execution_count": 10,
   "metadata": {},
   "outputs": [
    {
     "data": {
      "text/plain": [
       "Text(0.5, 1.0, 'Ziffer: 2')"
      ]
     },
     "execution_count": 10,
     "metadata": {},
     "output_type": "execute_result"
    },
    {
     "data": {
      "image/png": "[encoded data removed]",
      "text/plain": [
       "<Figure size 432x288 with 1 Axes>"
      ]
     },
     "metadata": {
      "needs_background": "light"
     },
     "output_type": "display_data"
    }
   ],
   "source": [
    "plt.plot()\n",
    "plt.imshow(np.reshape(X_test[data_index], (8,8)), cmap=plt.cm.gray)\n",
    "plt.title(f'Ziffer: {y_test[data_index]}', fontsize = 20)"
   ]
  },
  {
   "cell_type": "markdown",
   "metadata": {},
   "source": [
    "Die Vorhersage ist richtig (es ist nicht die Ziffer 0 auf dem Bild dargestellt).\n",
    "Schauen wir uns ein zweites Beispiel an."
   ]
  },
  {
   "cell_type": "code",
   "execution_count": 11,
   "metadata": {},
   "outputs": [
    {
     "name": "stdout",
     "output_type": "stream",
     "text": [
      "Vorhersage auf Datenpunkt 17 ist: [1]\n"
     ]
    }
   ],
   "source": [
    "data_index = 17\n",
    "prediction = logisticRegr.predict(X_test[[data_index]])\n",
    "print(\"Vorhersage auf Datenpunkt\", data_index, \"ist:\", prediction)"
   ]
  },
  {
   "cell_type": "code",
   "execution_count": 12,
   "metadata": {},
   "outputs": [
    {
     "data": {
      "text/plain": [
       "Text(0.5, 1.0, 'Ziffer: 0')"
      ]
     },
     "execution_count": 12,
     "metadata": {},
     "output_type": "execute_result"
    },
    {
     "data": {
      "image/png": "[encoded data removed]",
      "text/plain": [
       "<Figure size 432x288 with 1 Axes>"
      ]
     },
     "metadata": {
      "needs_background": "light"
     },
     "output_type": "display_data"
    }
   ],
   "source": [
    "plt.plot()\n",
    "plt.imshow(np.reshape(X_test[data_index], (8,8)), cmap=plt.cm.gray)\n",
    "plt.title(f\"Ziffer: {y_test[data_index]}\", fontsize = 20)"
   ]
  },
  {
   "cell_type": "markdown",
   "metadata": {},
   "source": [
    "In diesem Fall sagt das Modell die Klasse `1` (= es ist eine Null auf dem Bild zu sehen) voraus und es ist auch tatsächlich eine `0` auf dem Bild, d.h. das Modell liegt richtig. \n",
    "\n",
    "Schauen wir uns die Performance auf allen Testdaten an. Dazu mache wir zuerst eine Vorhersage mit dem Modell auf allen Testdaten:"
   ]
  },
  {
   "cell_type": "code",
   "execution_count": 13,
   "metadata": {},
   "outputs": [],
   "source": [
    "predictions = logisticRegr.predict(X_test)"
   ]
  },
  {
   "cell_type": "markdown",
   "metadata": {},
   "source": [
    "Im nächsten Schritt vergleich wir diese Vorhersagen mit dem wahren Label und berechnen die Accuracy:"
   ]
  },
  {
   "cell_type": "code",
   "execution_count": 14,
   "metadata": {},
   "outputs": [
    {
     "data": {
      "text/plain": [
       "0.9944444444444445"
      ]
     },
     "execution_count": 14,
     "metadata": {},
     "output_type": "execute_result"
    }
   ],
   "source": [
    "from sklearn.metrics import accuracy_score\n",
    "accuracy_score(y_test_0, predictions)"
   ]
  },
  {
   "cell_type": "markdown",
   "metadata": {},
   "source": [
    "Die Accuracy liegt bei diesem einfachen Modell bei 99 Prozent. Schauen wir uns Precision und Recall an."
   ]
  },
  {
   "cell_type": "code",
   "execution_count": 15,
   "metadata": {},
   "outputs": [
    {
     "data": {
      "text/plain": [
       "0.9310344827586207"
      ]
     },
     "execution_count": 15,
     "metadata": {},
     "output_type": "execute_result"
    }
   ],
   "source": [
    "from sklearn.metrics import precision_score\n",
    "precision_score(y_test_0, predictions)"
   ]
  },
  {
   "cell_type": "code",
   "execution_count": 16,
   "metadata": {},
   "outputs": [
    {
     "data": {
      "text/plain": [
       "1.0"
      ]
     },
     "execution_count": 16,
     "metadata": {},
     "output_type": "execute_result"
    }
   ],
   "source": [
    "from sklearn.metrics import recall_score\n",
    "recall_score(y_test_0, predictions)"
   ]
  },
  {
   "cell_type": "markdown",
   "metadata": {},
   "source": [
    "Das Modell erkennt alle Nullen im Testdatensatz und ist dabei 93% präzise.\n",
    "Es scheint also, dass das Problem eine Null in diesem Datensatz zu erkennen nicht sehr schwierig ist.\n",
    "\n",
    "Da wir jedoch keine 100% Precision erreicht haben, macht das Modell noch ein paar Fehler. Schauen wir uns exemplarisch einen Fehler an:"
   ]
  },
  {
   "cell_type": "code",
   "execution_count": 17,
   "metadata": {},
   "outputs": [
    {
     "name": "stdout",
     "output_type": "stream",
     "text": [
      "Vorhersage auf Datenpunkt 117 ist: [1]\n"
     ]
    }
   ],
   "source": [
    "data_index = 117\n",
    "prediction = logisticRegr.predict(X_test[[data_index]])\n",
    "print(\"Vorhersage auf Datenpunkt \" + str(data_index) + \" ist: \" + str(prediction))"
   ]
  },
  {
   "cell_type": "code",
   "execution_count": 18,
   "metadata": {},
   "outputs": [
    {
     "data": {
      "text/plain": [
       "Text(0.5, 1.0, 'Ziffer: 2')"
      ]
     },
     "execution_count": 18,
     "metadata": {},
     "output_type": "execute_result"
    },
    {
     "data": {
      "image/png": "[encoded data removed]",
      "text/plain": [
       "<Figure size 432x288 with 1 Axes>"
      ]
     },
     "metadata": {
      "needs_background": "light"
     },
     "output_type": "display_data"
    }
   ],
   "source": [
    "plt.plot()\n",
    "plt.imshow(np.reshape(X_test[data_index], (8,8)), cmap=plt.cm.gray)\n",
    "plt.title(\"Ziffer: \" + str(y_test[data_index]), fontsize = 20)"
   ]
  },
  {
   "cell_type": "markdown",
   "metadata": {},
   "source": [
    "Dieses Zwei hält das Modell fälschlicherweiße für eine Null."
   ]
  },
  {
   "cell_type": "markdown",
   "metadata": {},
   "source": [
    "### Multiklassen-Klassifikation"
   ]
  },
  {
   "cell_type": "markdown",
   "metadata": {},
   "source": [
    "Im nächsten Schritt erweitern wir das Vorhersagemodell dahingehend, dass wir alle Ziffern erkennen wollen. Dies geschieht mit einer multinominalen logistischen Regression.\n",
    "\n",
    "Dazu trainieren wir individuelle Modell für jede Ziffer von 0 bis 9."
   ]
  },
  {
   "cell_type": "code",
   "execution_count": 19,
   "metadata": {},
   "outputs": [],
   "source": [
    "models = []\n",
    "for i in range(0,10):\n",
    "    logisticRegr = LogisticRegression(max_iter=1000)\n",
    "    y_train_binary = label_to_binary(i, y_train)\n",
    "    logisticRegr.fit(X_train, y_train_binary)\n",
    "    models.append(logisticRegr)"
   ]
  },
  {
   "cell_type": "markdown",
   "metadata": {},
   "source": [
    "Diese Modell nutzen wir jetzt bei der Vorhersage, in dem wir mit jedem Modell eine Vorhersage auf ein gegebens Bild machen und uns für die Vorhersage mit der höchsten Wahrscheinlichkeit entscheiden. Dazu brauchen wir (anstelle der vorhergesagten Klasse) die Vorhersagewahrscheinlichkeit eines Modells. Generell können wir mit der Methode `predict` direkt die Vorhersage der Klasse bekommen, während die `predict_proba`-Methode uns die Wahrscheinlichkeiten liefert:"
   ]
  },
  {
   "cell_type": "code",
   "execution_count": 20,
   "metadata": {},
   "outputs": [
    {
     "name": "stdout",
     "output_type": "stream",
     "text": [
      "Vorhergesagte Klasse: [0]\n",
      "[[9.99999999e-01 8.67497417e-10]]\n",
      "Wahrscheinlichkeit für Klasse 1: 8.674974167786687e-10\n"
     ]
    }
   ],
   "source": [
    "predicted_class = logisticRegr.predict(X_test[[0]])\n",
    "print(\"Vorhergesagte Klasse:\", predicted_class)\n",
    "\n",
    "probability = logisticRegr.predict_proba(X_test[[0]])\n",
    "print(probability)\n",
    "print(\"Wahrscheinlichkeit für Klasse 1:\", probability[0][1])"
   ]
  },
  {
   "cell_type": "markdown",
   "metadata": {},
   "source": [
    "Mit den trainierten Einzelmodellen können wir nun für einen Datenpunkt vorhersagen mit allen 10 Modell machen:"
   ]
  },
  {
   "cell_type": "code",
   "execution_count": 21,
   "metadata": {},
   "outputs": [
    {
     "name": "stdout",
     "output_type": "stream",
     "text": [
      "Vorhersage mit Modell für Ziffer 0 ist 0.0012082723785015782\n",
      "Vorhersage mit Modell für Ziffer 1 ist 1.8180013079239412e-10\n",
      "Vorhersage mit Modell für Ziffer 2 ist 3.311895664094988e-07\n",
      "Vorhersage mit Modell für Ziffer 3 ist 1.039966976210068e-06\n",
      "Vorhersage mit Modell für Ziffer 4 ist 6.5573132241567494e-12\n",
      "Vorhersage mit Modell für Ziffer 5 ist 1.1383857293055642e-06\n",
      "Vorhersage mit Modell für Ziffer 6 ist 1.2870233873747558e-15\n",
      "Vorhersage mit Modell für Ziffer 7 ist 2.049227085836648e-09\n",
      "Vorhersage mit Modell für Ziffer 8 ist 0.04650907768510973\n",
      "Vorhersage mit Modell für Ziffer 9 ist 0.9999999944553826\n"
     ]
    }
   ],
   "source": [
    "data_index = 34\n",
    "predictions = []\n",
    "for index, model in enumerate(models):\n",
    "    prediction = model.predict_proba(X_test[[data_index]])[0][1]\n",
    "    print(\"Vorhersage mit Modell für Ziffer\", index, \"ist\", prediction)\n",
    "    predictions.append(prediction)"
   ]
  },
  {
   "cell_type": "markdown",
   "metadata": {},
   "source": [
    "Und die Klasse vorhersagen welche die höchste Wahrscheinlichkeit hat:"
   ]
  },
  {
   "cell_type": "code",
   "execution_count": 22,
   "metadata": {},
   "outputs": [
    {
     "name": "stdout",
     "output_type": "stream",
     "text": [
      "Vorhergesagte Klasse: 9\n"
     ]
    }
   ],
   "source": [
    "prediction = predictions.index(max(predictions))\n",
    "print(\"Vorhergesagte Klasse:\", prediction)"
   ]
  },
  {
   "cell_type": "code",
   "execution_count": 23,
   "metadata": {},
   "outputs": [
    {
     "data": {
      "text/plain": [
       "Text(0.5, 1.0, 'Ziffer: 9')"
      ]
     },
     "execution_count": 23,
     "metadata": {},
     "output_type": "execute_result"
    },
    {
     "data": {
      "image/png": "[encoded data removed]",
      "text/plain": [
       "<Figure size 432x288 with 1 Axes>"
      ]
     },
     "metadata": {
      "needs_background": "light"
     },
     "output_type": "display_data"
    }
   ],
   "source": [
    "plt.plot()\n",
    "plt.imshow(np.reshape(X_test[data_index], (8,8)), cmap=plt.cm.gray)\n",
    "plt.title(f\"Ziffer: {y_test[data_index]}\", fontsize = 20)"
   ]
  },
  {
   "cell_type": "markdown",
   "metadata": {},
   "source": [
    "Wie wir sehen stimmt die vorhergesagte Ziffer in diesem Fall mit der tatsächlichen Ziffer überein. Im nächsten Schritt schauen wir uns die Vorhersage über alle Testdatenpunkte an und schauen auf die Accuarcy.\n",
    "Dazu sagen wir mit jedem der 10 Modelle auf jedem Testdatenpunkt vorher, und merken uns die Klasse mit der höchsten Wahrscheinlichkeit:"
   ]
  },
  {
   "cell_type": "code",
   "execution_count": 24,
   "metadata": {},
   "outputs": [],
   "source": [
    "test_predictions = []\n",
    "for data_point in X_test:\n",
    "    predictions = []\n",
    "    for model in models:  \n",
    "        prediction = model.predict_proba(data_point.reshape(1,-1))[0][1]\n",
    "        predictions.append(prediction)\n",
    "    predicted_class = predictions.index(max(predictions))\n",
    "    test_predictions.append(predicted_class)"
   ]
  },
  {
   "cell_type": "code",
   "execution_count": 25,
   "metadata": {},
   "outputs": [
    {
     "data": {
      "text/plain": [
       "0.9472222222222222"
      ]
     },
     "execution_count": 25,
     "metadata": {},
     "output_type": "execute_result"
    }
   ],
   "source": [
    "from sklearn.metrics import accuracy_score\n",
    "accuracy_score(y_test, test_predictions)"
   ]
  },
  {
   "cell_type": "markdown",
   "metadata": {},
   "source": [
    "Wie wir sehen können wir mit unserem recht simplen Modell bereits 95% der Fälle richtig vorhersagen."
   ]
  },
  {
   "cell_type": "markdown",
   "metadata": {},
   "source": [
    "### Aufgabe"
   ]
  },
  {
   "cell_type": "markdown",
   "metadata": {},
   "source": [
    "Erweitern Sie das Notebook, so dass für die Multiklassen-Klassifikation eine Confusion-Matrix und ein Classification Report ausgegeben wird. Nehmen Sie dazu die zwei Methoden von sklearn:\n",
    "[confusion_matrix](https://scikit-learn.org/stable/modules/generated/sklearn.metrics.confusion_matrix.html#sklearn.metrics.confusion_matrix)\n",
    "und [classification_report](https://scikit-learn.org/stable/modules/generated/sklearn.metrics.classification_report.html#sklearn.metrics.classification_report)\n",
    "\n",
    "Beantworten Sie mit diesen Berichten die folgenden Fragen:\n",
    "1. Welche Ziffern konnte am besten erkennt werden (und welche am\n",
    "schlechtesten)?\n",
    "2. Als welche Ziffer wird „8“ in einigen Fällen fälschlicherweise vorhergesagt?\n",
    "3. Sagt das Modell Ziffer „4“ vorher, kann es in einigen Fällen auch tatsächlich\n",
    "welche Ziffer sein?"
   ]
  },
  {
   "cell_type": "code",
   "execution_count": null,
   "metadata": {},
   "outputs": [],
   "source": []
  }
 ],
 "metadata": {
  "kernelspec": {
   "display_name": "Python 3",
   "language": "python",
   "name": "python3"
  },
  "language_info": {
   "codemirror_mode": {
    "name": "ipython",
    "version": 3
   },
   "file_extension": ".py",
   "mimetype": "text/x-python",
   "name": "python",
   "nbconvert_exporter": "python",
   "pygments_lexer": "ipython3",
   "version": "3.8.5"
  }
 },
 "nbformat": 4,
 "nbformat_minor": 2
}
